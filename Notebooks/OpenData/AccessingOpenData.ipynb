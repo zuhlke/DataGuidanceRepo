{
 "cells": [
  {
   "cell_type": "code",
   "execution_count": null,
   "id": "ea17e4b9-430b-4a17-8bf3-cb0f3c083398",
   "metadata": {},
   "outputs": [],
   "source": [
    "import requests\n",
    "import pandas as pd\n",
    "from zipfile import ZipFile \n",
    "import io\n",
    "import json"
   ]
  },
  {
   "cell_type": "markdown",
   "id": "66c498ab-6f28-485d-933e-37204f1add95",
   "metadata": {},
   "source": [
    "# Download the EPC Schema\n",
    "\n",
    "The EPC schema is only included in .zip files, so we make an empty request to the API with a .zip format to extract the schema file and save it."
   ]
  },
  {
   "cell_type": "code",
   "execution_count": null,
   "id": "697a832e-67e1-405b-9a29-61af9e314686",
   "metadata": {},
   "outputs": [],
   "source": [
    "with open('epc_token.txt', 'r') as file:\n",
    "    epc_token = file.read()\n",
    "\n",
    "schema_headers = {\n",
    "    'Accept': 'application/zip',\n",
    "    'Authorization': f'Basic {epc_token}'\n",
    "}\n",
    "\n",
    "schema_params = {\n",
    "    'size': 0,\n",
    "}\n",
    "\n",
    "url = 'https://epc.opendatacommunities.org/api/v1/domestic/search'"
   ]
  },
  {
   "cell_type": "code",
   "execution_count": null,
   "id": "4d8d26cb-f526-4200-bbeb-8b9e3127ee77",
   "metadata": {},
   "outputs": [],
   "source": [
    "response = requests.get(url, headers=schema_headers, params=schema_params)\n",
    "response.status_code"
   ]
  },
  {
   "cell_type": "code",
   "execution_count": null,
   "id": "07436f0e-1f19-419b-9838-9613bff0b170",
   "metadata": {},
   "outputs": [],
   "source": [
    "zip = ZipFile(io.BytesIO(response.content))\n",
    "schema_path = zip.extract(member=\"schema.json\", path=\"EPC\")"
   ]
  },
  {
   "cell_type": "code",
   "execution_count": null,
   "id": "9ac78aae-353a-4a24-b4a7-0604d621bc59",
   "metadata": {},
   "outputs": [],
   "source": [
    "with open (schema_path, 'r') as file:\n",
    "    schema = json.load(file)"
   ]
  },
  {
   "cell_type": "markdown",
   "id": "983ff8ac-f57f-4e74-9fec-070e9de43e8d",
   "metadata": {},
   "source": [
    "# The first API request\n",
    "\n",
    "Make a small API request with json format"
   ]
  },
  {
   "cell_type": "code",
   "execution_count": null,
   "id": "0230e40e-aecd-4346-ad2f-4ff64389953f",
   "metadata": {},
   "outputs": [],
   "source": [
    "with open('epc_token.txt', 'r') as file:\n",
    "    epc_token = file.read()\n",
    "\n",
    "headers = {\n",
    "    'Accept': 'application/json',\n",
    "    'Authorization': f'Basic {epc_token}'\n",
    "}\n",
    "\n",
    "params = {\n",
    "    'size': 100,\n",
    "    'postcode': 'M1'\n",
    "}\n",
    "\n",
    "url = 'https://epc.opendatacommunities.org/api/v1/domestic/search'"
   ]
  },
  {
   "cell_type": "code",
   "execution_count": null,
   "id": "b7a31e25-25f8-45db-b2bf-d2d365147d1e",
   "metadata": {},
   "outputs": [],
   "source": [
    "response = requests.get(url, headers=headers, params=params)\n",
    "response.status_code\n",
    "data = response.json()"
   ]
  },
  {
   "cell_type": "markdown",
   "id": "5c04ca16-4d8e-4cc2-a29a-919c4ceabd58",
   "metadata": {},
   "source": [
    "# Download all data using pagination"
   ]
  },
  {
   "cell_type": "code",
   "execution_count": null,
   "id": "3a4bb2af-e579-4577-83fc-6e7e9fc4904d",
   "metadata": {},
   "outputs": [],
   "source": [
    "with open('epc_token.txt', 'r') as file:\n",
    "    epc_token = file.read()\n",
    "\n",
    "headers = {\n",
    "    'Accept': 'application/json',\n",
    "    'Authorization': f'Basic {epc_token}'\n",
    "}\n",
    "\n",
    "params = {\n",
    "    'postcode': 'M1',\n",
    "    'size': 5000\n",
    "}\n",
    "\n",
    "url = 'https://epc.opendatacommunities.org/api/v1/domestic/search'"
   ]
  },
  {
   "cell_type": "code",
   "execution_count": null,
   "id": "a4dfdea8-1438-4dfd-9c80-7ff8cc943c62",
   "metadata": {},
   "outputs": [],
   "source": [
    "response = requests.get(url, headers=headers, params=params)\n",
    "response.status_code\n",
    "data = response.json()\n",
    "search_after = response.headers['X-Next-Search-After']"
   ]
  },
  {
   "cell_type": "code",
   "execution_count": null,
   "id": "96f0a872-2ac1-4ee0-b78e-7131b8337a75",
   "metadata": {},
   "outputs": [],
   "source": [
    "while search_after != None:\n",
    "    params[\"search-after\"] = search_after\n",
    "    response = requests.get(url, headers=headers, params=params)\n",
    "    page_data = response.json()\n",
    "    data['rows'] = data['rows'] + page_data['rows']\n",
    "    try:\n",
    "        search_after = response.headers['X-Next-Search-After']\n",
    "    except KeyError:\n",
    "        search_after = None"
   ]
  },
  {
   "cell_type": "code",
   "execution_count": null,
   "id": "224fe949-0775-4942-b902-20cdfdbbfa0b",
   "metadata": {},
   "outputs": [],
   "source": [
    "epc_df = pd.DataFrame(columns=data['column-names'], data=data['rows'])"
   ]
  },
  {
   "cell_type": "code",
   "execution_count": null,
   "id": "4727886c-2c42-4183-9e4e-9173203ecab7",
   "metadata": {},
   "outputs": [],
   "source": [
    "epc_df"
   ]
  },
  {
   "cell_type": "markdown",
   "id": "ba886a89-3eed-433d-b028-d4c3f3253720",
   "metadata": {},
   "source": [
    "# Using the data\n",
    "\n",
    "### Our question: for each type of property, for each tenure, what is the average increase in energy efficiency as a percentage of the current energy efficiency?"
   ]
  },
  {
   "cell_type": "markdown",
   "id": "e20bf520-87da-4257-8909-81721e1842ea",
   "metadata": {},
   "source": [
    "## Cleaning the data"
   ]
  },
  {
   "cell_type": "markdown",
   "id": "ea1dce4e-aaf6-4990-8e2a-d357b261561f",
   "metadata": {},
   "source": [
    "### Convert datatypes"
   ]
  },
  {
   "cell_type": "code",
   "execution_count": null,
   "id": "08bb23f3-6843-497a-8b78-592971c5c086",
   "metadata": {},
   "outputs": [],
   "source": [
    "epc_df['inspection-date'] = pd.to_datetime(epc_df['inspection-date'], format=\"%Y-%m-%d\")\n",
    "epc_df['current-energy-efficiency'] = epc_df['current-energy-efficiency'].astype(int)\n",
    "epc_df['potential-energy-efficiency'] = epc_df['potential-energy-efficiency'].astype(int)"
   ]
  },
  {
   "cell_type": "markdown",
   "id": "532e5536-b524-453b-9a54-07b5e5f7373b",
   "metadata": {},
   "source": [
    "### Convert categorical variables"
   ]
  },
  {
   "cell_type": "code",
   "execution_count": null,
   "id": "88d2ad72-b9e2-4e74-a9ab-4cd8eacef2f3",
   "metadata": {},
   "outputs": [],
   "source": [
    "epc_df['tenure'].value_counts()"
   ]
  },
  {
   "cell_type": "code",
   "execution_count": null,
   "id": "249ea6d3-bcf9-41ae-b571-b54dd7580ede",
   "metadata": {},
   "outputs": [],
   "source": [
    "epc_df['tenure'] = epc_df['tenure'].map({\n",
    "    \"rental (private)\":\"rental (private)\",\n",
    "    \"rental (social)\":\"rental (social)\",\n",
    "    \"owner-occupied\":\"owner-occupied\",\n",
    "    \"Rented (private)\":\"rental (private)\",\n",
    "    \"Rented (social)\":\"rental (social)\",\n",
    "    \"Owner-occupied\":\"owner-occupied\",    \n",
    "})"
   ]
  },
  {
   "cell_type": "code",
   "execution_count": null,
   "id": "4532d1e2-28cf-4327-afab-d54ef9729de4",
   "metadata": {},
   "outputs": [],
   "source": [
    "epc_df['tenure'].value_counts()"
   ]
  },
  {
   "cell_type": "markdown",
   "id": "fe010064-fefa-41c1-9d81-3718d64a67ce",
   "metadata": {},
   "source": [
    "### Remove duplicates"
   ]
  },
  {
   "cell_type": "markdown",
   "id": "fe3b6bcc-fe7a-4ec1-9a4f-065f510a77f6",
   "metadata": {},
   "source": [
    "We will sort by inspection date first so that we can keep the most recent data for each building"
   ]
  },
  {
   "cell_type": "code",
   "execution_count": null,
   "id": "0f34d58e-8dca-4cff-8082-3af7d2069a7d",
   "metadata": {},
   "outputs": [],
   "source": [
    "epc_df = epc_df.sort_values(by='inspection-date', ascending=False)"
   ]
  },
  {
   "cell_type": "code",
   "execution_count": null,
   "id": "1a874bca-11ef-4968-a6e9-e30b0d4f9b93",
   "metadata": {},
   "outputs": [],
   "source": [
    "epc_df = epc_df.drop_duplicates(subset=[\"uprn\"], keep='first')"
   ]
  },
  {
   "cell_type": "markdown",
   "id": "ecd2b25f-3479-4c96-8fea-9e8c2c73b07b",
   "metadata": {},
   "source": [
    "## Insights from data"
   ]
  },
  {
   "cell_type": "code",
   "execution_count": null,
   "id": "f3feea5e-354e-4364-af01-a616ba3b1679",
   "metadata": {},
   "outputs": [],
   "source": [
    "epc_df[\"property-type\"].value_counts()"
   ]
  },
  {
   "cell_type": "code",
   "execution_count": null,
   "id": "917bae8b-3c45-4d02-86e2-33693808fa65",
   "metadata": {},
   "outputs": [],
   "source": [
    "epc_df[\"potential-efficiency-increase\"] = (epc_df['potential-energy-efficiency'] - epc_df['current-energy-efficiency']) / epc_df['current-energy-efficiency']"
   ]
  },
  {
   "cell_type": "code",
   "execution_count": null,
   "id": "5604d7d8-4f6d-4e8b-9f0f-0b2d73d193f9",
   "metadata": {},
   "outputs": [],
   "source": [
    "epc_df = epc_df[[\"potential-efficiency-increase\",\"tenure\",\"property-type\"]]\n",
    "epc_df = epc_df.dropna()"
   ]
  },
  {
   "cell_type": "code",
   "execution_count": null,
   "id": "c13dcbde-9073-4bbd-9661-04209ba1b5ac",
   "metadata": {},
   "outputs": [],
   "source": [
    "print(epc_df.head(10))"
   ]
  },
  {
   "cell_type": "code",
   "execution_count": null,
   "id": "433e8a8e-0ef6-429d-bd7e-9d1f54a3bd1c",
   "metadata": {},
   "outputs": [],
   "source": [
    "epc_df_group = epc_df.groupby([\"tenure\",\"property-type\"])"
   ]
  },
  {
   "cell_type": "code",
   "execution_count": null,
   "id": "4d3e1bff-2b64-468e-9200-31ccf7f1378d",
   "metadata": {},
   "outputs": [],
   "source": [
    "efficiency_increase_averages = epc_df_group[\"potential-efficiency-increase\"].mean().unstack()"
   ]
  },
  {
   "cell_type": "code",
   "execution_count": null,
   "id": "2f486d12-435c-463d-ac01-df4e00ecdce6",
   "metadata": {},
   "outputs": [],
   "source": [
    "efficiency_increase_averages.to_csv(\"averages.csv\")"
   ]
  }
 ],
 "metadata": {
  "kernelspec": {
   "display_name": "Python 3 (ipykernel)",
   "language": "python",
   "name": "python3"
  },
  "language_info": {
   "codemirror_mode": {
    "name": "ipython",
    "version": 3
   },
   "file_extension": ".py",
   "mimetype": "text/x-python",
   "name": "python",
   "nbconvert_exporter": "python",
   "pygments_lexer": "ipython3",
   "version": "3.11.5"
  }
 },
 "nbformat": 4,
 "nbformat_minor": 5
}
