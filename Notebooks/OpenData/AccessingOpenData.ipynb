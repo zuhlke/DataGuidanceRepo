{
 "cells": [
  {
   "cell_type": "code",
   "execution_count": null,
   "id": "ea17e4b9-430b-4a17-8bf3-cb0f3c083398",
   "metadata": {},
   "outputs": [],
   "source": [
    "import requests\n",
    "import pandas as pd\n",
    "from zipfile import ZipFile \n",
    "import io\n",
    "import json"
   ]
  },
  {
   "cell_type": "markdown",
   "id": "66c498ab-6f28-485d-933e-37204f1add95",
   "metadata": {},
   "source": [
    "# Download the EPC Schema\n",
    "\n",
    "The EPC schema is only included in .zip files, so we make an empty request to the API with a .zip format to extract the schema file and save it."
   ]
  },
  {
   "cell_type": "code",
   "execution_count": null,
   "id": "697a832e-67e1-405b-9a29-61af9e314686",
   "metadata": {},
   "outputs": [],
   "source": [
    "with open('epc_token.txt', 'r') as file:\n",
    "    epc_token = file.read()\n",
    "\n",
    "schema_headers = {\n",
    "    'Accept': 'application/zip',\n",
    "    'Authorization': f'Basic {epc_token}'\n",
    "}\n",
    "\n",
    "schema_params = {\n",
    "    'size': 0,\n",
    "}\n",
    "\n",
    "url = 'https://epc.opendatacommunities.org/api/v1/domestic/search'"
   ]
  },
  {
   "cell_type": "code",
   "execution_count": null,
   "id": "4d8d26cb-f526-4200-bbeb-8b9e3127ee77",
   "metadata": {},
   "outputs": [],
   "source": [
    "response = requests.get(url, headers=schema_headers, params=schema_params)\n",
    "response.status_code"
   ]
  },
  {
   "cell_type": "code",
   "execution_count": null,
   "id": "07436f0e-1f19-419b-9838-9613bff0b170",
   "metadata": {},
   "outputs": [],
   "source": [
    "zip = ZipFile(io.BytesIO(response.content))\n",
    "schema_path = zip.extract(member=\"schema.json\", path=\"EPC\")"
   ]
  },
  {
   "cell_type": "code",
   "execution_count": null,
   "id": "9ac78aae-353a-4a24-b4a7-0604d621bc59",
   "metadata": {},
   "outputs": [],
   "source": [
    "with open (schema_path, 'r') as file:\n",
    "    schema = json.load(file)"
   ]
  },
  {
   "cell_type": "markdown",
   "id": "983ff8ac-f57f-4e74-9fec-070e9de43e8d",
   "metadata": {},
   "source": [
    "# The first API request\n",
    "\n",
    "Make a small API request with json format"
   ]
  },
  {
   "cell_type": "code",
   "execution_count": null,
   "id": "0230e40e-aecd-4346-ad2f-4ff64389953f",
   "metadata": {},
   "outputs": [],
   "source": [
    "with open('epc_token.txt', 'r') as file:\n",
    "    epc_token = file.read()\n",
    "\n",
    "headers = {\n",
    "    'Accept': 'application/json',\n",
    "    'Authorization': f'Basic {epc_token}'\n",
    "}\n",
    "\n",
    "params = {\n",
    "    'size': 100,\n",
    "    'postcode': 'M1'\n",
    "}\n",
    "\n",
    "url = 'https://epc.opendatacommunities.org/api/v1/domestic/search'"
   ]
  },
  {
   "cell_type": "code",
   "execution_count": null,
   "id": "b7a31e25-25f8-45db-b2bf-d2d365147d1e",
   "metadata": {},
   "outputs": [],
   "source": [
    "response = requests.get(url, headers=headers, params=params)\n",
    "response.status_code\n",
    "data = response.json()"
   ]
  },
  {
   "cell_type": "markdown",
   "id": "5c04ca16-4d8e-4cc2-a29a-919c4ceabd58",
   "metadata": {},
   "source": [
    "# Download all data using pagination"
   ]
  },
  {
   "cell_type": "code",
   "execution_count": null,
   "id": "3a4bb2af-e579-4577-83fc-6e7e9fc4904d",
   "metadata": {},
   "outputs": [],
   "source": [
    "with open('epc_token.txt', 'r') as file:\n",
    "    epc_token = file.read()\n",
    "\n",
    "headers = {\n",
    "    'Accept': 'application/json',\n",
    "    'Authorization': f'Basic {epc_token}'\n",
    "}\n",
    "\n",
    "params = {\n",
    "    'postcode': 'M1',\n",
    "    'size': 5000\n",
    "}\n",
    "\n",
    "url = 'https://epc.opendatacommunities.org/api/v1/domestic/search'"
   ]
  },
  {
   "cell_type": "code",
   "execution_count": null,
   "id": "a4dfdea8-1438-4dfd-9c80-7ff8cc943c62",
   "metadata": {},
   "outputs": [],
   "source": [
    "response = requests.get(url, headers=headers, params=params)\n",
    "response.status_code\n",
    "data = response.json()\n",
    "search_after = response.headers['X-Next-Search-After']"
   ]
  },
  {
   "cell_type": "code",
   "execution_count": null,
   "id": "96f0a872-2ac1-4ee0-b78e-7131b8337a75",
   "metadata": {},
   "outputs": [],
   "source": [
    "while search_after != None:\n",
    "    params[\"search-after\"] = search_after\n",
    "    response = requests.get(url, headers=headers, params=params)\n",
    "    page_data = response.json()\n",
    "    data['rows'] = data['rows'] + page_data['rows']\n",
    "    try:\n",
    "        search_after = response.headers['X-Next-Search-After']\n",
    "    except KeyError:\n",
    "        search_after = None"
   ]
  },
  {
   "cell_type": "markdown",
   "id": "5837af51-a217-4c69-b539-4429eac25d1d",
   "metadata": {},
   "source": [
    "# PART 2: Data Transformation"
   ]
  },
  {
   "cell_type": "markdown",
   "id": "ba886a89-3eed-433d-b028-d4c3f3253720",
   "metadata": {},
   "source": [
    "**Our question: for each type of property, for each tenure, what is the average increase in energy efficiency as a percentage of the current energy efficiency?**"
   ]
  },
  {
   "cell_type": "markdown",
   "id": "ca8a8adc-3375-4f1e-8c8a-8ab2d9e07849",
   "metadata": {},
   "source": [
    "## Converting the data\n",
    "\n",
    "From the last article, we have our raw data in a dictionary called data . The column names are defined in a list at the index 'column-names' while the actual data is in a list at index 'rows' . We will use both of these lists to create a Pandas DataFrame epc_df "
   ]
  },
  {
   "cell_type": "code",
   "execution_count": null,
   "id": "224fe949-0775-4942-b902-20cdfdbbfa0b",
   "metadata": {},
   "outputs": [],
   "source": [
    "epc_df = pd.DataFrame(columns=data['column-names'], data=data['rows'])"
   ]
  },
  {
   "cell_type": "markdown",
   "id": "84fac139-0b30-400f-b477-1423b1532f69",
   "metadata": {
    "jp-MarkdownHeadingCollapsed": true
   },
   "source": [
    "## Understanding the Data\n",
    "\n",
    "DataFrames have lots of inbuilt attributes and methods to help you understand the data. \n",
    "\n",
    "*Note: when using a Jupyter notebook, you do not need to use `print` statements; the output of the last line of each cell is printed below the cell.*"
   ]
  },
  {
   "cell_type": "markdown",
   "id": "8ecbdce2-a2b8-42ec-9dfe-0e227d20a9ee",
   "metadata": {
    "jp-MarkdownHeadingCollapsed": true
   },
   "source": [
    "### Understanding the data as a whole\n",
    "* Identify what data is present\n",
    "* Identify where the data we need is"
   ]
  },
  {
   "cell_type": "code",
   "execution_count": null,
   "id": "fc1687fe-fe3b-445f-ba59-ce54f4a4426e",
   "metadata": {},
   "outputs": [],
   "source": [
    "# the shape of the DataFrame (no. rows, no. columns)\n",
    "epc_df.shape"
   ]
  },
  {
   "cell_type": "code",
   "execution_count": null,
   "id": "bb7a898c-e17a-4761-b0a5-8a40c09c3e51",
   "metadata": {},
   "outputs": [],
   "source": [
    "# the column names\n",
    "epc_df.columns"
   ]
  },
  {
   "cell_type": "code",
   "execution_count": null,
   "id": "0783d3fb-b0ee-4a44-acd3-b9bfb304bc3b",
   "metadata": {},
   "outputs": [],
   "source": [
    "# the first 15 rows of the data\n",
    "epc_df.head(15)"
   ]
  },
  {
   "cell_type": "markdown",
   "id": "73d82587-f7fc-446a-88de-5499dbf6d3be",
   "metadata": {
    "jp-MarkdownHeadingCollapsed": true
   },
   "source": [
    "### Understanding the content and quality of the data\n",
    "* Identify the data cleaning tasks necessary by inspecting the columns we will use"
   ]
  },
  {
   "cell_type": "code",
   "execution_count": null,
   "id": "06f1fbe9-901f-4642-839f-f2ea038ee645",
   "metadata": {},
   "outputs": [],
   "source": [
    "# the data type of the column\n",
    "epc_df['potential-energy-efficiency'].dtype"
   ]
  },
  {
   "cell_type": "code",
   "execution_count": null,
   "id": "d2c53ee0-ada2-4eda-843b-8b641830c48d",
   "metadata": {},
   "outputs": [],
   "source": [
    "# the data type of the column\n",
    "epc_df['tenure'].dtype"
   ]
  },
  {
   "cell_type": "code",
   "execution_count": null,
   "id": "75b74bd7-5f81-4a63-afda-a7dee347ae16",
   "metadata": {
    "scrolled": true
   },
   "outputs": [],
   "source": [
    "# the number of NA (blank) values in the column\n",
    "sum(epc_df['tenure'].isna())"
   ]
  },
  {
   "cell_type": "code",
   "execution_count": null,
   "id": "d13ff9af-2d06-4803-8f56-f863592a9c07",
   "metadata": {},
   "outputs": [],
   "source": [
    "# the smallest value in the column\n",
    "epc_df['potential-energy-efficiency'].min()"
   ]
  },
  {
   "cell_type": "code",
   "execution_count": null,
   "id": "ebd148bc-da14-4a73-a372-5fed9e1f7811",
   "metadata": {},
   "outputs": [],
   "source": [
    "# the largest value in the column\n",
    "epc_df['potential-energy-efficiency'].max()"
   ]
  },
  {
   "cell_type": "code",
   "execution_count": null,
   "id": "cda6d1c2-6fc3-437f-9214-c4c43dd5e8c0",
   "metadata": {},
   "outputs": [],
   "source": [
    "# the counts for each unique value in the column\n",
    "epc_df['tenure'].value_counts()"
   ]
  },
  {
   "cell_type": "code",
   "execution_count": null,
   "id": "7a58d1f1-4878-43d3-b340-e37d38337544",
   "metadata": {},
   "outputs": [],
   "source": [
    "# the counts for each unique value in the column\n",
    "epc_df['property-type'].value_counts()"
   ]
  },
  {
   "cell_type": "code",
   "execution_count": null,
   "id": "4e562c4d-917d-4c37-b0d0-df2e3345a6e2",
   "metadata": {},
   "outputs": [],
   "source": [
    "# the length of the list of unique values in the column\n",
    "len(epc_df['uprn'].unique())"
   ]
  },
  {
   "cell_type": "markdown",
   "id": "c2a5510d-abea-4529-86a4-b572a538b75b",
   "metadata": {},
   "source": [
    "**Findings:**\n",
    "\n",
    "- The datatype returned for each column is `dtype('O')` , meaning ‘Object’, instead of the proper [Pandas datatype](https://pandas.pydata.org/docs/user_guide/basics.html#basics-dtypes) to represent the data.\n",
    "- We can see from the `tenure` column value counts that there are inconsistencies in categorising the same meaning with text.\n",
    "- We can also see that there are some entries that mean ‘No data’ in this context; such as ‘Not defined - ..’.\n",
    "- We can see that there are fewer unique values in the `uprn` column than there are rows in the table, meaning there are some duplicate entires for each property."
   ]
  },
  {
   "cell_type": "markdown",
   "id": "e20bf520-87da-4257-8909-81721e1842ea",
   "metadata": {
    "jp-MarkdownHeadingCollapsed": true
   },
   "source": [
    "## Cleaning the data\n",
    "* Clean the data according to the data quality needs understood previously"
   ]
  },
  {
   "cell_type": "markdown",
   "id": "ea1dce4e-aaf6-4990-8e2a-d357b261561f",
   "metadata": {
    "jp-MarkdownHeadingCollapsed": true
   },
   "source": [
    "### Convert datatypes:\n",
    "We can convert most datatypes using the `astype` function. To parse the inspection-date information into a datetime object we use the pandas `to_datetime` function. This allows us to specify the format the date is written in."
   ]
  },
  {
   "cell_type": "code",
   "execution_count": null,
   "id": "08bb23f3-6843-497a-8b78-592971c5c086",
   "metadata": {},
   "outputs": [],
   "source": [
    "epc_df['inspection-date'] = pd.to_datetime(epc_df['inspection-date'], format=\"%Y-%m-%d\")\n",
    "epc_df['current-energy-efficiency'] = epc_df['current-energy-efficiency'].astype(int)\n",
    "epc_df['potential-energy-efficiency'] = epc_df['potential-energy-efficiency'].astype(int)\n",
    "epc_df['property-type'] = epc_df['property-type'].astype(str)\n",
    "epc_df['tenure'] = epc_df['tenure'].astype(str)"
   ]
  },
  {
   "cell_type": "markdown",
   "id": "532e5536-b524-453b-9a54-07b5e5f7373b",
   "metadata": {
    "jp-MarkdownHeadingCollapsed": true
   },
   "source": [
    "### Convert categorical variables\n",
    "\n",
    "We can map the unwanted variations on the categorical values using the `replace` function. Here we provide the function with a dictionary with the unwanted values as keys and the wanted values as values."
   ]
  },
  {
   "cell_type": "code",
   "execution_count": null,
   "id": "249ea6d3-bcf9-41ae-b571-b54dd7580ede",
   "metadata": {},
   "outputs": [],
   "source": [
    "epc_df['tenure'] = epc_df['tenure'].replace({\n",
    "    \"Rented (private)\":\"rental (private)\",\n",
    "    \"Rented (social)\":\"rental (social)\",\n",
    "    \"Owner-occupied\":\"owner-occupied\",    \n",
    "})"
   ]
  },
  {
   "cell_type": "code",
   "execution_count": null,
   "id": "4532d1e2-28cf-4327-afab-d54ef9729de4",
   "metadata": {},
   "outputs": [],
   "source": [
    "# check the results of replacing\n",
    "epc_df['tenure'].value_counts()"
   ]
  },
  {
   "cell_type": "markdown",
   "id": "80fe2bb1-9585-44f7-8420-f777cfd50356",
   "metadata": {
    "jp-MarkdownHeadingCollapsed": true
   },
   "source": [
    "### Clear 'no data' cells\n",
    "We select all the rows in the column that do not contain the three categories we have kept, and set them all to be `None` ."
   ]
  },
  {
   "cell_type": "code",
   "execution_count": null,
   "id": "24bbb140-a5a6-42e1-8096-2daaea5209ab",
   "metadata": {},
   "outputs": [],
   "source": [
    "epc_df['tenure'] = epc_df['tenure'].where(epc_df['tenure'].isin([\"rental (private)\",\"rental (social)\",\"owner-occupied\" ]), None)"
   ]
  },
  {
   "cell_type": "markdown",
   "id": "fe010064-fefa-41c1-9d81-3718d64a67ce",
   "metadata": {
    "jp-MarkdownHeadingCollapsed": true
   },
   "source": [
    "### Remove duplicates\n",
    "\n",
    "To keep only the newest entry for duplicate UPRNs, we first sort by `inspection-date` in descending order. Then we drop duplicates, looking only at the column `UPRN` to identify duplicates, and keep the first value found."
   ]
  },
  {
   "cell_type": "code",
   "execution_count": null,
   "id": "0f34d58e-8dca-4cff-8082-3af7d2069a7d",
   "metadata": {},
   "outputs": [],
   "source": [
    "epc_df = epc_df.sort_values(by='inspection-date', ascending=False)"
   ]
  },
  {
   "cell_type": "code",
   "execution_count": null,
   "id": "1a874bca-11ef-4968-a6e9-e30b0d4f9b93",
   "metadata": {},
   "outputs": [],
   "source": [
    "epc_df = epc_df.drop_duplicates(subset=[\"uprn\"], keep='first')"
   ]
  },
  {
   "cell_type": "code",
   "execution_count": null,
   "id": "ff0968e6-d5c4-42b7-9777-c253cca5aa63",
   "metadata": {},
   "outputs": [],
   "source": [
    "epc_df = epc_df[[\"tenure\",\"property-type\",\"current-energy-efficiency\",\"potential-energy-efficiency\"]]\n",
    "epc_df = epc_df.dropna()"
   ]
  },
  {
   "cell_type": "markdown",
   "id": "ecd2b25f-3479-4c96-8fea-9e8c2c73b07b",
   "metadata": {
    "jp-MarkdownHeadingCollapsed": true
   },
   "source": [
    "## Manipulating the Data\n",
    "* Perform the tasks to extract the required information to answer our question:\n",
    "\n",
    "_**Our question: for each type of property, for each tenure, what is the average increase in energy efficiency as a percentage of the current energy efficiency?**_"
   ]
  },
  {
   "cell_type": "markdown",
   "id": "6f50e315-60a0-4b75-964f-26dd6a0260c5",
   "metadata": {
    "jp-MarkdownHeadingCollapsed": true
   },
   "source": [
    "### Calculate the potential efficiency increase\n",
    "\n",
    "We can use the mathematical operators on DataFrame columns, and the operators are applied row by row. Assigning the result to a new column name creates a new column in the DataFrame"
   ]
  },
  {
   "cell_type": "code",
   "execution_count": null,
   "id": "917bae8b-3c45-4d02-86e2-33693808fa65",
   "metadata": {},
   "outputs": [],
   "source": [
    "epc_df[\"potential-efficiency-increase\"] = (epc_df['potential-energy-efficiency'] - epc_df['current-energy-efficiency']) / epc_df['current-energy-efficiency']"
   ]
  },
  {
   "cell_type": "markdown",
   "id": "3119db3d-1a04-4b39-a61b-ae3bcf66eab8",
   "metadata": {
    "jp-MarkdownHeadingCollapsed": true
   },
   "source": [
    "### Group and calculate averages\n",
    "The `groupby` function creates a grouped DataFrame according to the unique values in the columns provided. We can then use the built in `mean` function to calculate the average potential efficiency across each group. Finally, the `unstack` function ungroups the DataFrame so it can be displayed as a flat table."
   ]
  },
  {
   "cell_type": "code",
   "execution_count": null,
   "id": "433e8a8e-0ef6-429d-bd7e-9d1f54a3bd1c",
   "metadata": {},
   "outputs": [],
   "source": [
    "epc_df_group = epc_df.groupby([\"tenure\",\"property-type\"])"
   ]
  },
  {
   "cell_type": "code",
   "execution_count": null,
   "id": "4d3e1bff-2b64-468e-9200-31ccf7f1378d",
   "metadata": {},
   "outputs": [],
   "source": [
    "efficiency_increase_averages = epc_df_group[\"potential-efficiency-increase\"].mean().unstack()"
   ]
  },
  {
   "cell_type": "code",
   "execution_count": null,
   "id": "a611a965-1419-44bb-be3e-ba82b3e7ba10",
   "metadata": {},
   "outputs": [],
   "source": [
    "efficiency_increase_averages"
   ]
  },
  {
   "cell_type": "markdown",
   "id": "8df7ad89-daf1-4fb9-9eaf-954ed6089e6d",
   "metadata": {
    "jp-MarkdownHeadingCollapsed": true
   },
   "source": [
    "### Save the result\n",
    "Pandas has functions to save DataFrames to a variety of file formats. Here we use `to_csv` to save it to a .csv format."
   ]
  },
  {
   "cell_type": "code",
   "execution_count": null,
   "id": "2f486d12-435c-463d-ac01-df4e00ecdce6",
   "metadata": {},
   "outputs": [],
   "source": [
    "efficiency_increase_averages.to_csv(\"averages.csv\")"
   ]
  }
 ],
 "metadata": {
  "kernelspec": {
   "display_name": "Python 3 (ipykernel)",
   "language": "python",
   "name": "python3"
  },
  "language_info": {
   "codemirror_mode": {
    "name": "ipython",
    "version": 3
   },
   "file_extension": ".py",
   "mimetype": "text/x-python",
   "name": "python",
   "nbconvert_exporter": "python",
   "pygments_lexer": "ipython3",
   "version": "3.11.5"
  }
 },
 "nbformat": 4,
 "nbformat_minor": 5
}
